{
  "nbformat": 4,
  "nbformat_minor": 0,
  "metadata": {
    "colab": {
      "name": "Direct Democracy",
      "provenance": [],
      "collapsed_sections": [],
      "authorship_tag": "ABX9TyN6mu6lMW975F2ZFuT/qhJZ",
      "include_colab_link": true
    },
    "kernelspec": {
      "name": "python3",
      "display_name": "Python 3"
    }
  },
  "cells": [
    {
      "cell_type": "markdown",
      "metadata": {
        "id": "view-in-github",
        "colab_type": "text"
      },
      "source": [
        "<a href=\"https://colab.research.google.com/github/slz4025/direct_democracy_toy/blob/master/Direct_Democracy.ipynb\" target=\"_parent\"><img src=\"https://colab.research.google.com/assets/colab-badge.svg\" alt=\"Open In Colab\"/></a>"
      ]
    },
    {
      "cell_type": "markdown",
      "metadata": {
        "id": "Kas9begxh8Lb",
        "colab_type": "text"
      },
      "source": [
        "# Direct Democracy\n",
        "\n",
        "View this file by putting its link [https://github.com/slz4025/direct_democracy_toy/blob/master/Direct_Democracy.ipynb] here: http://colab.research.google.com/github.\n",
        "\n",
        "## Introduction\n",
        "\n",
        "Direct democracies allow each member of a society to voice their views to the whole of society.  However, organizing people effectively to have productive discussions becomes more difficult with more people.  People tend to work best if the groups are smaller than ten people (Agile).  \n",
        "\n",
        "Despite the downfalls of representative democracies in diminishing the voice of those who are non-representatives, it does offer a general structure that collects views and makes decisions--that of the tree structure (hierarchical structure).  \n",
        "\n",
        "## Proposed System\n",
        "\n",
        "Therefore, let us consider the following formal system for implementing direct democracy that we will call technological direct democracy.  With `N` people, let us divide them into smaller and smaller groups in a tree structure with a fixed branching constant such that the leaf nodes have `n` people, where `n <= 10`.  Now, discussion among the people will take place for `T` units of time and some number of rounds, each of length `t`.  Within each round, the participants of each leaf node discuss the particular issue at hand, and then summarize their discussions. In a representative democracy, discussion would continue at the parent nodes.  However, here, we try to maximize discussion at the leaf nodes, and thus minimize discussion at the parent nodes.  Though the summaries are passed up the tree to the parent node, all the summaries that arrive at a parent node are simply further summarized, then passed up again.  At the root node, the global summary should contain the general sense of the discussion that took place at the lower levels and no more. This global summary is then passed to each leaf group, so that its participants can continue to discuss the issue but now with a better knowledge of the global discussion.  In this way, we can use small, feasible discussion sizes, but also allow people to be aware of a large landscape of experience.\n",
        "\n",
        "Such a system should ideally be used for complex issues, namely issues that cannot simply be broken into sub-parts that can then be discussed by a further division of people.  \n",
        "\n",
        "\n",
        "## Proposed Problem and Model\n",
        "\n",
        "Let us consider a class of problems that could be addressed by \"direct action\", Agile, the iterative design process, etc.  We introduce the following model.\n",
        "\n",
        "TODO"
      ]
    },
    {
      "cell_type": "markdown",
      "metadata": {
        "id": "Ocw2fu3Cvj-p",
        "colab_type": "text"
      },
      "source": [
        "Setup, including imports, hyperparameters specifying characteristics of the problems, individuals, democracies."
      ]
    },
    {
      "cell_type": "code",
      "metadata": {
        "id": "VnHe8bWcy4t1",
        "colab_type": "code",
        "colab": {}
      },
      "source": [
        "# imports\n",
        "from random import shuffle, choice, randint\n",
        "import numpy as np\n",
        "import scipy.stats as st\n",
        "from matplotlib import pyplot as plt\n",
        "import math"
      ],
      "execution_count": 0,
      "outputs": []
    },
    {
      "cell_type": "code",
      "metadata": {
        "id": "qzMr3iQ-vxPe",
        "colab_type": "code",
        "colab": {}
      },
      "source": [
        "# hyperparameters for the problem class\n",
        "\n"
      ],
      "execution_count": 0,
      "outputs": []
    },
    {
      "cell_type": "code",
      "metadata": {
        "id": "S-LucmPivxeW",
        "colab_type": "code",
        "colab": {}
      },
      "source": [
        "# hyperparameters for the individual model\n",
        "\n"
      ],
      "execution_count": 0,
      "outputs": []
    },
    {
      "cell_type": "code",
      "metadata": {
        "id": "130noEqhh3LY",
        "colab_type": "code",
        "colab": {}
      },
      "source": [
        "# hyperparameters for the technological direct democracy\n",
        "\n",
        "# hard constraints\n",
        "HARD_MAX_GROUP_SIZE = 10                                                        # agile group size\n",
        "HARD_MIN_GROUP_SIZE = 2                                                         # an exchange of ideas\n",
        "HARD_MIN_BRANCH_FACTOR = 2                                                      # minimum possible branching factor\n",
        "\n",
        "# structure constants\n",
        "TOTAL_TIME = 1000                                                               # total length of discussion\n",
        "ROUND_TIME = 10                                                                 # length of discussion round\n",
        "ROUND_NUM = TOTAL_TIME // ROUND_TIME                                            # number of discussion rounds\n",
        "TOTAL_IND = 100                                                                # total number of people\n",
        "GROUP_SIZE = 6                                                                  # size of discussion group\n",
        "MIN_GROUP_SIZE = 3                                                              # used min group size\n",
        "BRANCH_FACTOR = 3                                                               # branching constant\n",
        "MIN_BRANCH_FACTOR = 2                                                           # minimum branching constant\n",
        "\n",
        "# check constants are valid\n",
        "assert(GROUP_SIZE <= HARD_MAX_GROUP_SIZE)\n",
        "assert(MIN_GROUP_SIZE >= HARD_MIN_GROUP_SIZE)\n",
        "assert(MIN_GROUP_SIZE <= GROUP_SIZE)\n",
        "assert(MIN_BRANCH_FACTOR <= HARD_MIN_BRANCH_FACTOR)"
      ],
      "execution_count": 0,
      "outputs": []
    },
    {
      "cell_type": "markdown",
      "metadata": {
        "id": "GnpdTjd6v7G4",
        "colab_type": "text"
      },
      "source": [
        "A small library of basic helper functions."
      ]
    },
    {
      "cell_type": "code",
      "metadata": {
        "id": "JDmho1aAHQeu",
        "colab_type": "code",
        "colab": {}
      },
      "source": [
        "# helper functions\n",
        "\n",
        "def show_array(A):\n",
        "  data = np.uint8(A * 255)\n",
        "  #https://stackoverflow.com/questions/33828780/matplotlib-display-array-values-with-imshow\n",
        "  fig = plt.figure(figsize=(4, 3))\n",
        "  ax = fig.add_subplot(111)\n",
        "  im = ax.imshow(data, origin='lower', \\\n",
        "    interpolation='None', cmap='gray', vmin=0,vmax=255)\n",
        "  plt.show()\n",
        "\n",
        "def flatten(L): # one-level, can make recursive\n",
        "  S = [e for l in L for e in l]\n",
        "  return S"
      ],
      "execution_count": 0,
      "outputs": []
    },
    {
      "cell_type": "markdown",
      "metadata": {
        "id": "IuacWIs3vMUd",
        "colab_type": "text"
      },
      "source": [
        "Here, we model an instance of a the class of problems that are design-like in nature and could be \"solved\" with \"direct action\", Agile, iterative design."
      ]
    },
    {
      "cell_type": "code",
      "metadata": {
        "id": "2YQyRbuBvLq1",
        "colab_type": "code",
        "colab": {}
      },
      "source": [
        ""
      ],
      "execution_count": 0,
      "outputs": []
    },
    {
      "cell_type": "markdown",
      "metadata": {
        "id": "6qvwY0W8vDwS",
        "colab_type": "text"
      },
      "source": [
        "Here, we describe our model of the individual."
      ]
    },
    {
      "cell_type": "code",
      "metadata": {
        "id": "OQcf1wEMmnZE",
        "colab_type": "code",
        "colab": {}
      },
      "source": [
        "# class to govern how an individual works\n",
        "class Individual:\n",
        "\n",
        "  def __init__(self):\n",
        " \n",
        "  def speak(self, discussion):\n"
      ],
      "execution_count": 0,
      "outputs": []
    },
    {
      "cell_type": "markdown",
      "metadata": {
        "id": "2meTCJ8kusfM",
        "colab_type": "text"
      },
      "source": [
        "The following is the abstraction for a group, which is the basic unit of society.  It could be said to be the leaf node of the representative and technological direct democracies, and a small instance of a traditional direct democracy."
      ]
    },
    {
      "cell_type": "code",
      "metadata": {
        "id": "rzwK1RO7BmmF",
        "colab_type": "code",
        "colab": {}
      },
      "source": [
        "class Group:\n",
        "  def __init__(self, members):\n",
        "    self.members = members\n",
        "    self.speaker = randint(0, len(self.members) - 1)\n",
        "\n",
        "  def discuss(self, summary):\n",
        "    contribution = self.members[self.speaker].speak(summary)\n",
        "    # DECAY param\n",
        "    summary = summary * 0.9 + contribution * 0.1\n",
        "    self.speaker = (self.speaker + 1) % len(self.members)\n",
        "    return summary"
      ],
      "execution_count": 0,
      "outputs": []
    },
    {
      "cell_type": "code",
      "metadata": {
        "id": "oxbX5weTA-la",
        "colab_type": "code",
        "colab": {}
      },
      "source": [
        "# main\n",
        "\n",
        "individuals = []\n",
        "for i in range(GROUP_SIZE):\n",
        "  individual = Individual(simple_preference)\n",
        "  #print(\"Individual {}\\n\".format(i))\n",
        "  #show_array(individual.preference)\n",
        "  individuals.append(individual)\n",
        "\n",
        "unit = Group(individuals)\n",
        "\n",
        "# TODO init summary"
      ],
      "execution_count": 0,
      "outputs": []
    },
    {
      "cell_type": "code",
      "metadata": {
        "id": "C8J-_MACvXZU",
        "colab_type": "code",
        "colab": {}
      },
      "source": [
        "for i in range(TOTAL_TIME):\n",
        "  summary = unit.discuss(summary)"
      ],
      "execution_count": 0,
      "outputs": []
    },
    {
      "cell_type": "markdown",
      "metadata": {
        "id": "CgF9TrMauQkc",
        "colab_type": "text"
      },
      "source": [
        "The following is the abstraction for the technological direct democracy model.\n",
        "\n",
        "NOTES:\n",
        "* It would be nice/useful to have a visualization of the tree/member structure."
      ]
    },
    {
      "cell_type": "code",
      "metadata": {
        "id": "YMqOhyi-qBaj",
        "colab_type": "code",
        "colab": {}
      },
      "source": [
        "class LeafGroup:\n",
        "  def __init__(self, members, parent):\n",
        "    self.parent = parent\n",
        "    self.members = members\n",
        "\n",
        "  def discuss(self, global_summary):\n",
        "    # TODO ################# make this generic\n",
        "    speaker = randint(0, len(self.members) - 1)\n",
        "    for i in range(ROUND_TIME):\n",
        "      discussion = self.members[speaker].speak(discussion, contribution_weight)\n",
        "      speaker = (speaker + 1) % len(self.members)\n",
        "    discussion_summary = discussion \n",
        "    ########################\n",
        "    return discussion_summary\n",
        "\n",
        "  def summarize(self, global_summary):\n",
        "    discussion_summary = self.discuss(global_summary)\n",
        "    return discussion_summary"
      ],
      "execution_count": 0,
      "outputs": []
    },
    {
      "cell_type": "code",
      "metadata": {
        "id": "EDKX1C22qDEO",
        "colab_type": "code",
        "colab": {}
      },
      "source": [
        "class ParentGroup:\n",
        "  def __init__(self, members, parent, summarize_func):\n",
        "    self.parent = parent\n",
        "    self.children = []\n",
        "    self.summarize_func = summarize_func\n",
        "    \n",
        "    assert(len(members) > GROUP_SIZE)\n",
        "    assert(len(members) >= MIN_BRANCH_FACTOR * MIN_GROUP_SIZE)\n",
        "    branch_factor = BRANCH_FACTOR\n",
        "    children_size = len(members) // branch_factor\n",
        "    if children_size > GROUP_SIZE: # children are parents\n",
        "      while (len(members) > 2 * children_size):\n",
        "        group = members[:children_size]\n",
        "        members = members[children_size:]\n",
        "        self.children.append(ParentGroup(group, self, summarize_func))\n",
        "      assert(len(members) >= children_size)\n",
        "      self.children.append(ParentGroup(members, self, summarize_func))\n",
        "    else: # children are leaves\n",
        "      if children_size <= MIN_GROUP_SIZE:\n",
        "        branch_factor = len(members) // MIN_GROUP_SIZE\n",
        "        children_size = len(members) // branch_factor # may != MIN_GROUP_SIZE\n",
        "        # consider 16 // 6 = 2, 16 // 2 = 8\n",
        "      while (len(members) >= 2 * children_size):\n",
        "        group = members[:children_size]\n",
        "        members = members[children_size:]\n",
        "        self.children.append(LeafGroup(group, self))\n",
        "      assert(len(members) >= children_size)\n",
        "      self.children.append(LeafGroup(members, self))\n",
        "  \n",
        "  def summarize(self, global_summary):\n",
        "    summaries = [c.summarize(global_summary) \\\n",
        "      for c in self.children]\n",
        "    summary = self.summarize_func(summaries)\n",
        "\n",
        "    return summary"
      ],
      "execution_count": 0,
      "outputs": []
    },
    {
      "cell_type": "code",
      "metadata": {
        "id": "MiRWkh3TmdsO",
        "colab_type": "code",
        "colab": {}
      },
      "source": [
        "# class for the proposed direct democracy structure\n",
        "class DirectDemocracy:\n",
        "\n",
        "  def __init__(self, summary_func, members, round_num,):\n",
        "    shuffle(members) # random\n",
        "    self.root_group = ParentGroup(members, None, summary_func)\n",
        "\n",
        "  def run_round(self):\n",
        "    summary = self.root_group.summarize(self.global_summary)\n",
        "    return summary # change"
      ],
      "execution_count": 0,
      "outputs": []
    },
    {
      "cell_type": "code",
      "metadata": {
        "id": "qrwnwGRik-bH",
        "colab_type": "code",
        "colab": {}
      },
      "source": [
        "# main\n",
        "\n",
        "# create individuals with preferences\n",
        "individuals = []\n",
        "for i in range(TOTAL_IND):\n",
        "  individual = Individual(simple_preference)\n",
        "  #print(\"Individual {}\\n\".format(i))\n",
        "  #show_array(individual.preference)\n",
        "  individuals.append(individual)\n",
        "\n",
        "# organize individuals into groups\n",
        "dd = DirectDemocracy(summarize_average, individuals, ROUND_NUM)\n",
        "\n",
        "# TODO init summary"
      ],
      "execution_count": 0,
      "outputs": []
    },
    {
      "cell_type": "code",
      "metadata": {
        "id": "9q7-mY1mHuG8",
        "colab_type": "code",
        "colab": {}
      },
      "source": [
        "# run each round\n",
        "for i in range(ROUND_NUM):\n",
        "  global_summary = dd.run_round()"
      ],
      "execution_count": 0,
      "outputs": []
    }
  ]
}